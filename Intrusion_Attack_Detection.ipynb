{
  "nbformat": 4,
  "nbformat_minor": 0,
  "metadata": {
    "colab": {
      "provenance": [],
      "toc_visible": true
    },
    "kernelspec": {
      "name": "python3",
      "display_name": "Python 3"
    },
    "language_info": {
      "name": "python"
    }
  },
  "cells": [
    {
      "cell_type": "markdown",
      "source": [
        "# Intrusion Attack Detection Project Framework - Data Science"
      ],
      "metadata": {
        "id": "fIuq7no6Rxgh"
      }
    },
    {
      "cell_type": "markdown",
      "source": [
        "Upload files"
      ],
      "metadata": {
        "id": "YBAfOaNGR_zl"
      }
    },
    {
      "cell_type": "code",
      "execution_count": null,
      "metadata": {
        "colab": {
          "base_uri": "https://localhost:8080/",
          "height": 73
        },
        "id": "PqArvyNKQ0WY",
        "outputId": "3b94d795-ba20-4568-fddf-2b2f8ac18604"
      },
      "outputs": [
        {
          "output_type": "display_data",
          "data": {
            "text/plain": [
              "<IPython.core.display.HTML object>"
            ],
            "text/html": [
              "\n",
              "     <input type=\"file\" id=\"files-61fee9f1-a107-465e-aaa6-d0570da8480d\" name=\"files[]\" multiple disabled\n",
              "        style=\"border:none\" />\n",
              "     <output id=\"result-61fee9f1-a107-465e-aaa6-d0570da8480d\">\n",
              "      Upload widget is only available when the cell has been executed in the\n",
              "      current browser session. Please rerun this cell to enable.\n",
              "      </output>\n",
              "      <script>// Copyright 2017 Google LLC\n",
              "//\n",
              "// Licensed under the Apache License, Version 2.0 (the \"License\");\n",
              "// you may not use this file except in compliance with the License.\n",
              "// You may obtain a copy of the License at\n",
              "//\n",
              "//      http://www.apache.org/licenses/LICENSE-2.0\n",
              "//\n",
              "// Unless required by applicable law or agreed to in writing, software\n",
              "// distributed under the License is distributed on an \"AS IS\" BASIS,\n",
              "// WITHOUT WARRANTIES OR CONDITIONS OF ANY KIND, either express or implied.\n",
              "// See the License for the specific language governing permissions and\n",
              "// limitations under the License.\n",
              "\n",
              "/**\n",
              " * @fileoverview Helpers for google.colab Python module.\n",
              " */\n",
              "(function(scope) {\n",
              "function span(text, styleAttributes = {}) {\n",
              "  const element = document.createElement('span');\n",
              "  element.textContent = text;\n",
              "  for (const key of Object.keys(styleAttributes)) {\n",
              "    element.style[key] = styleAttributes[key];\n",
              "  }\n",
              "  return element;\n",
              "}\n",
              "\n",
              "// Max number of bytes which will be uploaded at a time.\n",
              "const MAX_PAYLOAD_SIZE = 100 * 1024;\n",
              "\n",
              "function _uploadFiles(inputId, outputId) {\n",
              "  const steps = uploadFilesStep(inputId, outputId);\n",
              "  const outputElement = document.getElementById(outputId);\n",
              "  // Cache steps on the outputElement to make it available for the next call\n",
              "  // to uploadFilesContinue from Python.\n",
              "  outputElement.steps = steps;\n",
              "\n",
              "  return _uploadFilesContinue(outputId);\n",
              "}\n",
              "\n",
              "// This is roughly an async generator (not supported in the browser yet),\n",
              "// where there are multiple asynchronous steps and the Python side is going\n",
              "// to poll for completion of each step.\n",
              "// This uses a Promise to block the python side on completion of each step,\n",
              "// then passes the result of the previous step as the input to the next step.\n",
              "function _uploadFilesContinue(outputId) {\n",
              "  const outputElement = document.getElementById(outputId);\n",
              "  const steps = outputElement.steps;\n",
              "\n",
              "  const next = steps.next(outputElement.lastPromiseValue);\n",
              "  return Promise.resolve(next.value.promise).then((value) => {\n",
              "    // Cache the last promise value to make it available to the next\n",
              "    // step of the generator.\n",
              "    outputElement.lastPromiseValue = value;\n",
              "    return next.value.response;\n",
              "  });\n",
              "}\n",
              "\n",
              "/**\n",
              " * Generator function which is called between each async step of the upload\n",
              " * process.\n",
              " * @param {string} inputId Element ID of the input file picker element.\n",
              " * @param {string} outputId Element ID of the output display.\n",
              " * @return {!Iterable<!Object>} Iterable of next steps.\n",
              " */\n",
              "function* uploadFilesStep(inputId, outputId) {\n",
              "  const inputElement = document.getElementById(inputId);\n",
              "  inputElement.disabled = false;\n",
              "\n",
              "  const outputElement = document.getElementById(outputId);\n",
              "  outputElement.innerHTML = '';\n",
              "\n",
              "  const pickedPromise = new Promise((resolve) => {\n",
              "    inputElement.addEventListener('change', (e) => {\n",
              "      resolve(e.target.files);\n",
              "    });\n",
              "  });\n",
              "\n",
              "  const cancel = document.createElement('button');\n",
              "  inputElement.parentElement.appendChild(cancel);\n",
              "  cancel.textContent = 'Cancel upload';\n",
              "  const cancelPromise = new Promise((resolve) => {\n",
              "    cancel.onclick = () => {\n",
              "      resolve(null);\n",
              "    };\n",
              "  });\n",
              "\n",
              "  // Wait for the user to pick the files.\n",
              "  const files = yield {\n",
              "    promise: Promise.race([pickedPromise, cancelPromise]),\n",
              "    response: {\n",
              "      action: 'starting',\n",
              "    }\n",
              "  };\n",
              "\n",
              "  cancel.remove();\n",
              "\n",
              "  // Disable the input element since further picks are not allowed.\n",
              "  inputElement.disabled = true;\n",
              "\n",
              "  if (!files) {\n",
              "    return {\n",
              "      response: {\n",
              "        action: 'complete',\n",
              "      }\n",
              "    };\n",
              "  }\n",
              "\n",
              "  for (const file of files) {\n",
              "    const li = document.createElement('li');\n",
              "    li.append(span(file.name, {fontWeight: 'bold'}));\n",
              "    li.append(span(\n",
              "        `(${file.type || 'n/a'}) - ${file.size} bytes, ` +\n",
              "        `last modified: ${\n",
              "            file.lastModifiedDate ? file.lastModifiedDate.toLocaleDateString() :\n",
              "                                    'n/a'} - `));\n",
              "    const percent = span('0% done');\n",
              "    li.appendChild(percent);\n",
              "\n",
              "    outputElement.appendChild(li);\n",
              "\n",
              "    const fileDataPromise = new Promise((resolve) => {\n",
              "      const reader = new FileReader();\n",
              "      reader.onload = (e) => {\n",
              "        resolve(e.target.result);\n",
              "      };\n",
              "      reader.readAsArrayBuffer(file);\n",
              "    });\n",
              "    // Wait for the data to be ready.\n",
              "    let fileData = yield {\n",
              "      promise: fileDataPromise,\n",
              "      response: {\n",
              "        action: 'continue',\n",
              "      }\n",
              "    };\n",
              "\n",
              "    // Use a chunked sending to avoid message size limits. See b/62115660.\n",
              "    let position = 0;\n",
              "    do {\n",
              "      const length = Math.min(fileData.byteLength - position, MAX_PAYLOAD_SIZE);\n",
              "      const chunk = new Uint8Array(fileData, position, length);\n",
              "      position += length;\n",
              "\n",
              "      const base64 = btoa(String.fromCharCode.apply(null, chunk));\n",
              "      yield {\n",
              "        response: {\n",
              "          action: 'append',\n",
              "          file: file.name,\n",
              "          data: base64,\n",
              "        },\n",
              "      };\n",
              "\n",
              "      let percentDone = fileData.byteLength === 0 ?\n",
              "          100 :\n",
              "          Math.round((position / fileData.byteLength) * 100);\n",
              "      percent.textContent = `${percentDone}% done`;\n",
              "\n",
              "    } while (position < fileData.byteLength);\n",
              "  }\n",
              "\n",
              "  // All done.\n",
              "  yield {\n",
              "    response: {\n",
              "      action: 'complete',\n",
              "    }\n",
              "  };\n",
              "}\n",
              "\n",
              "scope.google = scope.google || {};\n",
              "scope.google.colab = scope.google.colab || {};\n",
              "scope.google.colab._files = {\n",
              "  _uploadFiles,\n",
              "  _uploadFilesContinue,\n",
              "};\n",
              "})(self);\n",
              "</script> "
            ]
          },
          "metadata": {}
        },
        {
          "output_type": "stream",
          "name": "stdout",
          "text": [
            "Saving data9_1.csv to data9_1.csv\n"
          ]
        }
      ],
      "source": [
        "from google.colab import files\n",
        "uploaded = files.upload()"
      ]
    },
    {
      "cell_type": "code",
      "source": [
        "import pandas as pd\n",
        "import numpy as np"
      ],
      "metadata": {
        "id": "LsKzFJISRYZB"
      },
      "execution_count": null,
      "outputs": []
    },
    {
      "cell_type": "markdown",
      "source": [
        "Read datasheet with the help of pandas"
      ],
      "metadata": {
        "id": "MaM9WdrPTdfF"
      }
    },
    {
      "cell_type": "code",
      "source": [
        "datasheet = pd.read_csv(\"data9_1.csv\")\n",
        "datasheet.head()"
      ],
      "metadata": {
        "colab": {
          "base_uri": "https://localhost:8080/",
          "height": 317
        },
        "id": "Rv_zrD3bSb9C",
        "outputId": "2e1058c1-479c-411d-89e4-3b8c4060f7f1"
      },
      "execution_count": null,
      "outputs": [
        {
          "output_type": "execute_result",
          "data": {
            "text/plain": [
              "   Marker  R1-PA1:VH     R1-PM1:V   R1-PA2:VH     R1-PM2:V   R1-PA3:VH  \\\n",
              "0       1  -5.781144  132462.0854 -125.752777  132411.9389  114.236325   \n",
              "1       1  -3.833088  132863.2577 -123.804720  132838.1845  116.178652   \n",
              "2       1  -3.729955  132687.7448 -123.695858  132637.5983  116.281785   \n",
              "3       1  -3.787251  132361.7923 -123.758884  132311.6458  116.230218   \n",
              "4       1  -3.878924  132286.5725 -123.850557  132236.4260  116.132816   \n",
              "\n",
              "      R1-PM3:V  R1-PA4:IH   R1-PM4:I   R1-PA5:IH  ...  control_panel_log3  \\\n",
              "0  132537.3052   0.784952  264.04462 -124.251627  ...                   0   \n",
              "1  132938.4775   1.329262  268.25615 -122.475458  ...                   0   \n",
              "2  132737.8914   0.899544  270.27036 -122.504106  ...                   0   \n",
              "3  132411.9389  -0.383882  274.84811 -122.985391  ...                   0   \n",
              "4  132336.7191  -0.979758  276.67921 -123.128630  ...                   0   \n",
              "\n",
              "   control_panel_log4  relay1_log  relay2_log  relay3_log  relay4_log  \\\n",
              "0                   0           0           0           0           0   \n",
              "1                   0           0           0           0           0   \n",
              "2                   0           0           0           0           0   \n",
              "3                   0           0           0           0           0   \n",
              "4                   0           0           0           0           0   \n",
              "\n",
              "   snort_log1  snort_log2  snort_log3  snort_log4  \n",
              "0           0           0           0           0  \n",
              "1           0           0           0           0  \n",
              "2           0           0           0           0  \n",
              "3           0           0           0           0  \n",
              "4           0           0           0           0  \n",
              "\n",
              "[5 rows x 129 columns]"
            ],
            "text/html": [
              "\n",
              "  <div id=\"df-36c424bb-f9a8-418e-8539-f00648b67fac\">\n",
              "    <div class=\"colab-df-container\">\n",
              "      <div>\n",
              "<style scoped>\n",
              "    .dataframe tbody tr th:only-of-type {\n",
              "        vertical-align: middle;\n",
              "    }\n",
              "\n",
              "    .dataframe tbody tr th {\n",
              "        vertical-align: top;\n",
              "    }\n",
              "\n",
              "    .dataframe thead th {\n",
              "        text-align: right;\n",
              "    }\n",
              "</style>\n",
              "<table border=\"1\" class=\"dataframe\">\n",
              "  <thead>\n",
              "    <tr style=\"text-align: right;\">\n",
              "      <th></th>\n",
              "      <th>Marker</th>\n",
              "      <th>R1-PA1:VH</th>\n",
              "      <th>R1-PM1:V</th>\n",
              "      <th>R1-PA2:VH</th>\n",
              "      <th>R1-PM2:V</th>\n",
              "      <th>R1-PA3:VH</th>\n",
              "      <th>R1-PM3:V</th>\n",
              "      <th>R1-PA4:IH</th>\n",
              "      <th>R1-PM4:I</th>\n",
              "      <th>R1-PA5:IH</th>\n",
              "      <th>...</th>\n",
              "      <th>control_panel_log3</th>\n",
              "      <th>control_panel_log4</th>\n",
              "      <th>relay1_log</th>\n",
              "      <th>relay2_log</th>\n",
              "      <th>relay3_log</th>\n",
              "      <th>relay4_log</th>\n",
              "      <th>snort_log1</th>\n",
              "      <th>snort_log2</th>\n",
              "      <th>snort_log3</th>\n",
              "      <th>snort_log4</th>\n",
              "    </tr>\n",
              "  </thead>\n",
              "  <tbody>\n",
              "    <tr>\n",
              "      <th>0</th>\n",
              "      <td>1</td>\n",
              "      <td>-5.781144</td>\n",
              "      <td>132462.0854</td>\n",
              "      <td>-125.752777</td>\n",
              "      <td>132411.9389</td>\n",
              "      <td>114.236325</td>\n",
              "      <td>132537.3052</td>\n",
              "      <td>0.784952</td>\n",
              "      <td>264.04462</td>\n",
              "      <td>-124.251627</td>\n",
              "      <td>...</td>\n",
              "      <td>0</td>\n",
              "      <td>0</td>\n",
              "      <td>0</td>\n",
              "      <td>0</td>\n",
              "      <td>0</td>\n",
              "      <td>0</td>\n",
              "      <td>0</td>\n",
              "      <td>0</td>\n",
              "      <td>0</td>\n",
              "      <td>0</td>\n",
              "    </tr>\n",
              "    <tr>\n",
              "      <th>1</th>\n",
              "      <td>1</td>\n",
              "      <td>-3.833088</td>\n",
              "      <td>132863.2577</td>\n",
              "      <td>-123.804720</td>\n",
              "      <td>132838.1845</td>\n",
              "      <td>116.178652</td>\n",
              "      <td>132938.4775</td>\n",
              "      <td>1.329262</td>\n",
              "      <td>268.25615</td>\n",
              "      <td>-122.475458</td>\n",
              "      <td>...</td>\n",
              "      <td>0</td>\n",
              "      <td>0</td>\n",
              "      <td>0</td>\n",
              "      <td>0</td>\n",
              "      <td>0</td>\n",
              "      <td>0</td>\n",
              "      <td>0</td>\n",
              "      <td>0</td>\n",
              "      <td>0</td>\n",
              "      <td>0</td>\n",
              "    </tr>\n",
              "    <tr>\n",
              "      <th>2</th>\n",
              "      <td>1</td>\n",
              "      <td>-3.729955</td>\n",
              "      <td>132687.7448</td>\n",
              "      <td>-123.695858</td>\n",
              "      <td>132637.5983</td>\n",
              "      <td>116.281785</td>\n",
              "      <td>132737.8914</td>\n",
              "      <td>0.899544</td>\n",
              "      <td>270.27036</td>\n",
              "      <td>-122.504106</td>\n",
              "      <td>...</td>\n",
              "      <td>0</td>\n",
              "      <td>0</td>\n",
              "      <td>0</td>\n",
              "      <td>0</td>\n",
              "      <td>0</td>\n",
              "      <td>0</td>\n",
              "      <td>0</td>\n",
              "      <td>0</td>\n",
              "      <td>0</td>\n",
              "      <td>0</td>\n",
              "    </tr>\n",
              "    <tr>\n",
              "      <th>3</th>\n",
              "      <td>1</td>\n",
              "      <td>-3.787251</td>\n",
              "      <td>132361.7923</td>\n",
              "      <td>-123.758884</td>\n",
              "      <td>132311.6458</td>\n",
              "      <td>116.230218</td>\n",
              "      <td>132411.9389</td>\n",
              "      <td>-0.383882</td>\n",
              "      <td>274.84811</td>\n",
              "      <td>-122.985391</td>\n",
              "      <td>...</td>\n",
              "      <td>0</td>\n",
              "      <td>0</td>\n",
              "      <td>0</td>\n",
              "      <td>0</td>\n",
              "      <td>0</td>\n",
              "      <td>0</td>\n",
              "      <td>0</td>\n",
              "      <td>0</td>\n",
              "      <td>0</td>\n",
              "      <td>0</td>\n",
              "    </tr>\n",
              "    <tr>\n",
              "      <th>4</th>\n",
              "      <td>1</td>\n",
              "      <td>-3.878924</td>\n",
              "      <td>132286.5725</td>\n",
              "      <td>-123.850557</td>\n",
              "      <td>132236.4260</td>\n",
              "      <td>116.132816</td>\n",
              "      <td>132336.7191</td>\n",
              "      <td>-0.979758</td>\n",
              "      <td>276.67921</td>\n",
              "      <td>-123.128630</td>\n",
              "      <td>...</td>\n",
              "      <td>0</td>\n",
              "      <td>0</td>\n",
              "      <td>0</td>\n",
              "      <td>0</td>\n",
              "      <td>0</td>\n",
              "      <td>0</td>\n",
              "      <td>0</td>\n",
              "      <td>0</td>\n",
              "      <td>0</td>\n",
              "      <td>0</td>\n",
              "    </tr>\n",
              "  </tbody>\n",
              "</table>\n",
              "<p>5 rows × 129 columns</p>\n",
              "</div>\n",
              "      <button class=\"colab-df-convert\" onclick=\"convertToInteractive('df-36c424bb-f9a8-418e-8539-f00648b67fac')\"\n",
              "              title=\"Convert this dataframe to an interactive table.\"\n",
              "              style=\"display:none;\">\n",
              "        \n",
              "  <svg xmlns=\"http://www.w3.org/2000/svg\" height=\"24px\"viewBox=\"0 0 24 24\"\n",
              "       width=\"24px\">\n",
              "    <path d=\"M0 0h24v24H0V0z\" fill=\"none\"/>\n",
              "    <path d=\"M18.56 5.44l.94 2.06.94-2.06 2.06-.94-2.06-.94-.94-2.06-.94 2.06-2.06.94zm-11 1L8.5 8.5l.94-2.06 2.06-.94-2.06-.94L8.5 2.5l-.94 2.06-2.06.94zm10 10l.94 2.06.94-2.06 2.06-.94-2.06-.94-.94-2.06-.94 2.06-2.06.94z\"/><path d=\"M17.41 7.96l-1.37-1.37c-.4-.4-.92-.59-1.43-.59-.52 0-1.04.2-1.43.59L10.3 9.45l-7.72 7.72c-.78.78-.78 2.05 0 2.83L4 21.41c.39.39.9.59 1.41.59.51 0 1.02-.2 1.41-.59l7.78-7.78 2.81-2.81c.8-.78.8-2.07 0-2.86zM5.41 20L4 18.59l7.72-7.72 1.47 1.35L5.41 20z\"/>\n",
              "  </svg>\n",
              "      </button>\n",
              "      \n",
              "  <style>\n",
              "    .colab-df-container {\n",
              "      display:flex;\n",
              "      flex-wrap:wrap;\n",
              "      gap: 12px;\n",
              "    }\n",
              "\n",
              "    .colab-df-convert {\n",
              "      background-color: #E8F0FE;\n",
              "      border: none;\n",
              "      border-radius: 50%;\n",
              "      cursor: pointer;\n",
              "      display: none;\n",
              "      fill: #1967D2;\n",
              "      height: 32px;\n",
              "      padding: 0 0 0 0;\n",
              "      width: 32px;\n",
              "    }\n",
              "\n",
              "    .colab-df-convert:hover {\n",
              "      background-color: #E2EBFA;\n",
              "      box-shadow: 0px 1px 2px rgba(60, 64, 67, 0.3), 0px 1px 3px 1px rgba(60, 64, 67, 0.15);\n",
              "      fill: #174EA6;\n",
              "    }\n",
              "\n",
              "    [theme=dark] .colab-df-convert {\n",
              "      background-color: #3B4455;\n",
              "      fill: #D2E3FC;\n",
              "    }\n",
              "\n",
              "    [theme=dark] .colab-df-convert:hover {\n",
              "      background-color: #434B5C;\n",
              "      box-shadow: 0px 1px 3px 1px rgba(0, 0, 0, 0.15);\n",
              "      filter: drop-shadow(0px 1px 2px rgba(0, 0, 0, 0.3));\n",
              "      fill: #FFFFFF;\n",
              "    }\n",
              "  </style>\n",
              "\n",
              "      <script>\n",
              "        const buttonEl =\n",
              "          document.querySelector('#df-36c424bb-f9a8-418e-8539-f00648b67fac button.colab-df-convert');\n",
              "        buttonEl.style.display =\n",
              "          google.colab.kernel.accessAllowed ? 'block' : 'none';\n",
              "\n",
              "        async function convertToInteractive(key) {\n",
              "          const element = document.querySelector('#df-36c424bb-f9a8-418e-8539-f00648b67fac');\n",
              "          const dataTable =\n",
              "            await google.colab.kernel.invokeFunction('convertToInteractive',\n",
              "                                                     [key], {});\n",
              "          if (!dataTable) return;\n",
              "\n",
              "          const docLinkHtml = 'Like what you see? Visit the ' +\n",
              "            '<a target=\"_blank\" href=https://colab.research.google.com/notebooks/data_table.ipynb>data table notebook</a>'\n",
              "            + ' to learn more about interactive tables.';\n",
              "          element.innerHTML = '';\n",
              "          dataTable['output_type'] = 'display_data';\n",
              "          await google.colab.output.renderOutput(dataTable, element);\n",
              "          const docLink = document.createElement('div');\n",
              "          docLink.innerHTML = docLinkHtml;\n",
              "          element.appendChild(docLink);\n",
              "        }\n",
              "      </script>\n",
              "    </div>\n",
              "  </div>\n",
              "  "
            ]
          },
          "metadata": {},
          "execution_count": 3
        }
      ]
    },
    {
      "cell_type": "markdown",
      "source": [
        "info() -> infromation about the data"
      ],
      "metadata": {
        "id": "2PZlJkZETpbY"
      }
    },
    {
      "cell_type": "code",
      "source": [
        "datasheet.info(5)"
      ],
      "metadata": {
        "colab": {
          "base_uri": "https://localhost:8080/"
        },
        "id": "e3gEPuVMSgpK",
        "outputId": "2ca5897c-5381-4f8e-bd3b-73352fc938d0"
      },
      "execution_count": null,
      "outputs": [
        {
          "output_type": "stream",
          "name": "stdout",
          "text": [
            "<class 'pandas.core.frame.DataFrame'>\n",
            "RangeIndex: 15582 entries, 0 to 15581\n",
            "Data columns (total 129 columns):\n",
            " #    Column              Dtype  \n",
            "---   ------              -----  \n",
            " 0    Marker              int64  \n",
            " 1    R1-PA1:VH           float64\n",
            " 2    R1-PM1:V            float64\n",
            " 3    R1-PA2:VH           float64\n",
            " 4    R1-PM2:V            float64\n",
            " 5    R1-PA3:VH           float64\n",
            " 6    R1-PM3:V            float64\n",
            " 7    R1-PA4:IH           float64\n",
            " 8    R1-PM4:I            float64\n",
            " 9    R1-PA5:IH           float64\n",
            " 10   R1-PM5:I            float64\n",
            " 11   R1-PA6:IH           float64\n",
            " 12   R1-PM6:I            float64\n",
            " 13   R1-PA7:VH           float64\n",
            " 14   R1-PM7:V            float64\n",
            " 15   R1-PA8:VH           float64\n",
            " 16   R1-PM8:V            float64\n",
            " 17   R1-PA9:VH           float64\n",
            " 18   R1-PM9:V            float64\n",
            " 19   R1-PA10:IH          float64\n",
            " 20   R1-PM10:I           float64\n",
            " 21   R1-PA11:IH          float64\n",
            " 22   R1-PM11:I           float64\n",
            " 23   R1-PA12:IH          float64\n",
            " 24   R1-PM12:I           float64\n",
            " 25   R1:F                float64\n",
            " 26   R1:DF               float64\n",
            " 27   R1-PA:Z             float64\n",
            " 28   R1-PA:ZH            float64\n",
            " 29   R1:S                int64  \n",
            " 30   R2-PA1:VH           float64\n",
            " 31   R2-PM1:V            float64\n",
            " 32   R2-PA2:VH           float64\n",
            " 33   R2-PM2:V            float64\n",
            " 34   R2-PA3:VH           float64\n",
            " 35   R2-PM3:V            float64\n",
            " 36   R2-PA4:IH           float64\n",
            " 37   R2-PM4:I            float64\n",
            " 38   R2-PA5:IH           float64\n",
            " 39   R2-PM5:I            float64\n",
            " 40   R2-PA6:IH           float64\n",
            " 41   R2-PM6:I            float64\n",
            " 42   R2-PA7:VH           float64\n",
            " 43   R2-PM7:V            float64\n",
            " 44   R2-PA8:VH           float64\n",
            " 45   R2-PM8:V            float64\n",
            " 46   R2-PA9:VH           float64\n",
            " 47   R2-PM9:V            float64\n",
            " 48   R2-PA10:IH          float64\n",
            " 49   R2-PM10:I           float64\n",
            " 50   R2-PA11:IH          float64\n",
            " 51   R2-PM11:I           float64\n",
            " 52   R2-PA12:IH          float64\n",
            " 53   R2-PM12:I           float64\n",
            " 54   R2:F                float64\n",
            " 55   R2:DF               float64\n",
            " 56   R2-PA:Z             float64\n",
            " 57   R2-PA:ZH            float64\n",
            " 58   R2:S                int64  \n",
            " 59   R3-PA1:VH           float64\n",
            " 60   R3-PM1:V            float64\n",
            " 61   R3-PA2:VH           float64\n",
            " 62   R3-PM2:V            float64\n",
            " 63   R3-PA3:VH           float64\n",
            " 64   R3-PM3:V            float64\n",
            " 65   R3-PA4:IH           float64\n",
            " 66   R3-PM4:I            float64\n",
            " 67   R3-PA5:IH           float64\n",
            " 68   R3-PM5:I            float64\n",
            " 69   R3-PA6:IH           float64\n",
            " 70   R3-PM6:I            float64\n",
            " 71   R3-PA7:VH           float64\n",
            " 72   R3-PM7:V            float64\n",
            " 73   R3-PA8:VH           float64\n",
            " 74   R3-PM8:V            float64\n",
            " 75   R3-PA9:VH           float64\n",
            " 76   R3-PM9:V            float64\n",
            " 77   R3-PA10:IH          float64\n",
            " 78   R3-PM10:I           float64\n",
            " 79   R3-PA11:IH          float64\n",
            " 80   R3-PM11:I           float64\n",
            " 81   R3-PA12:IH          float64\n",
            " 82   R3-PM12:I           float64\n",
            " 83   R3:F                float64\n",
            " 84   R3:DF               float64\n",
            " 85   R3-PA:Z             float64\n",
            " 86   R3-PA:ZH            float64\n",
            " 87   R3:S                int64  \n",
            " 88   R4-PA1:VH           float64\n",
            " 89   R4-PM1:V            float64\n",
            " 90   R4-PA2:VH           float64\n",
            " 91   R4-PM2:V            float64\n",
            " 92   R4-PA3:VH           float64\n",
            " 93   R4-PM3:V            float64\n",
            " 94   R4-PA4:IH           float64\n",
            " 95   R4-PM4:I            float64\n",
            " 96   R4-PA5:IH           float64\n",
            " 97   R4-PM5:I            float64\n",
            " 98   R4-PA6:IH           float64\n",
            " 99   R4-PM6:I            float64\n",
            " 100  R4-PA7:VH           float64\n",
            " 101  R4-PM7:V            float64\n",
            " 102  R4-PA8:VH           float64\n",
            " 103  R4-PM8:V            float64\n",
            " 104  R4-PA9:VH           float64\n",
            " 105  R4-PM9:V            float64\n",
            " 106  R4-PA10:IH          float64\n",
            " 107  R4-PM10:I           float64\n",
            " 108  R4-PA11:IH          float64\n",
            " 109  R4-PM11:I           float64\n",
            " 110  R4-PA12:IH          float64\n",
            " 111  R4-PM12:I           float64\n",
            " 112  R4:F                float64\n",
            " 113  R4:DF               float64\n",
            " 114  R4-PA:Z             float64\n",
            " 115  R4-PA:ZH            float64\n",
            " 116  R4:S                int64  \n",
            " 117  control_panel_log1  int64  \n",
            " 118  control_panel_log2  int64  \n",
            " 119  control_panel_log3  int64  \n",
            " 120  control_panel_log4  int64  \n",
            " 121  relay1_log          int64  \n",
            " 122  relay2_log          int64  \n",
            " 123  relay3_log          int64  \n",
            " 124  relay4_log          int64  \n",
            " 125  snort_log1          int64  \n",
            " 126  snort_log2          int64  \n",
            " 127  snort_log3          int64  \n",
            " 128  snort_log4          int64  \n",
            "dtypes: float64(112), int64(17)\n",
            "memory usage: 15.3 MB\n"
          ]
        }
      ]
    },
    {
      "cell_type": "markdown",
      "source": [
        "Selected only those columns which are required to make our desired model. So we copy that columns from that main datasheet and decleared into 3 different variable as (rds_phase1, rds_phase2, rds_phase3)"
      ],
      "metadata": {
        "id": "6BRUAtyxViSW"
      }
    },
    {
      "cell_type": "markdown",
      "source": [
        "Step:1 Select required columns for phase 1"
      ],
      "metadata": {
        "id": "uxm_Sk-eS6v1"
      }
    },
    {
      "cell_type": "markdown",
      "source": [
        "Here, declears that all rows with specified columns data selected by using -> .loc[starting_row : ending_row, [\"Selected comuns\"........]"
      ],
      "metadata": {
        "id": "PoB_cVMMZVYw"
      }
    },
    {
      "cell_type": "code",
      "source": [
        "##required datasheet rds for phase_1 or R-phase\n",
        "# rds_phase1 = datasheet.loc[:,['R1-PA1:VH','R1-PA4:IH','R1-PM4:I','R1-PM1:V']]\n",
        "# rds_phase1.head()"
      ],
      "metadata": {
        "id": "OiJ5caNeSktH"
      },
      "execution_count": null,
      "outputs": []
    },
    {
      "cell_type": "markdown",
      "source": [
        "Here, declears that only one row(0) with specified columns data selected by using -> .loc[starting_row : ending_row, [\"Selected comuns\"........]"
      ],
      "metadata": {
        "id": "rlaBJKlQaInd"
      }
    },
    {
      "cell_type": "code",
      "source": [
        "# required datasheet rds for phase_1 or R-phase\n",
        "rds_phase1 = datasheet.loc[0:0,['R1-PA1:VH','R1-PA4:IH','R1-PM4:I','R1-PM1:V']]\n",
        "rds_phase1"
      ],
      "metadata": {
        "colab": {
          "base_uri": "https://localhost:8080/",
          "height": 80
        },
        "id": "VWDSLLMSYQGG",
        "outputId": "5b41bd02-228e-49d1-c61a-46366d484722"
      },
      "execution_count": null,
      "outputs": [
        {
          "output_type": "execute_result",
          "data": {
            "text/plain": [
              "   R1-PA1:VH  R1-PA4:IH   R1-PM4:I     R1-PM1:V\n",
              "0  -5.781144   0.784952  264.04462  132462.0854"
            ],
            "text/html": [
              "\n",
              "  <div id=\"df-b0b5dfbe-1e35-4886-be53-26659e3a9f10\">\n",
              "    <div class=\"colab-df-container\">\n",
              "      <div>\n",
              "<style scoped>\n",
              "    .dataframe tbody tr th:only-of-type {\n",
              "        vertical-align: middle;\n",
              "    }\n",
              "\n",
              "    .dataframe tbody tr th {\n",
              "        vertical-align: top;\n",
              "    }\n",
              "\n",
              "    .dataframe thead th {\n",
              "        text-align: right;\n",
              "    }\n",
              "</style>\n",
              "<table border=\"1\" class=\"dataframe\">\n",
              "  <thead>\n",
              "    <tr style=\"text-align: right;\">\n",
              "      <th></th>\n",
              "      <th>R1-PA1:VH</th>\n",
              "      <th>R1-PA4:IH</th>\n",
              "      <th>R1-PM4:I</th>\n",
              "      <th>R1-PM1:V</th>\n",
              "    </tr>\n",
              "  </thead>\n",
              "  <tbody>\n",
              "    <tr>\n",
              "      <th>0</th>\n",
              "      <td>-5.781144</td>\n",
              "      <td>0.784952</td>\n",
              "      <td>264.04462</td>\n",
              "      <td>132462.0854</td>\n",
              "    </tr>\n",
              "  </tbody>\n",
              "</table>\n",
              "</div>\n",
              "      <button class=\"colab-df-convert\" onclick=\"convertToInteractive('df-b0b5dfbe-1e35-4886-be53-26659e3a9f10')\"\n",
              "              title=\"Convert this dataframe to an interactive table.\"\n",
              "              style=\"display:none;\">\n",
              "        \n",
              "  <svg xmlns=\"http://www.w3.org/2000/svg\" height=\"24px\"viewBox=\"0 0 24 24\"\n",
              "       width=\"24px\">\n",
              "    <path d=\"M0 0h24v24H0V0z\" fill=\"none\"/>\n",
              "    <path d=\"M18.56 5.44l.94 2.06.94-2.06 2.06-.94-2.06-.94-.94-2.06-.94 2.06-2.06.94zm-11 1L8.5 8.5l.94-2.06 2.06-.94-2.06-.94L8.5 2.5l-.94 2.06-2.06.94zm10 10l.94 2.06.94-2.06 2.06-.94-2.06-.94-.94-2.06-.94 2.06-2.06.94z\"/><path d=\"M17.41 7.96l-1.37-1.37c-.4-.4-.92-.59-1.43-.59-.52 0-1.04.2-1.43.59L10.3 9.45l-7.72 7.72c-.78.78-.78 2.05 0 2.83L4 21.41c.39.39.9.59 1.41.59.51 0 1.02-.2 1.41-.59l7.78-7.78 2.81-2.81c.8-.78.8-2.07 0-2.86zM5.41 20L4 18.59l7.72-7.72 1.47 1.35L5.41 20z\"/>\n",
              "  </svg>\n",
              "      </button>\n",
              "      \n",
              "  <style>\n",
              "    .colab-df-container {\n",
              "      display:flex;\n",
              "      flex-wrap:wrap;\n",
              "      gap: 12px;\n",
              "    }\n",
              "\n",
              "    .colab-df-convert {\n",
              "      background-color: #E8F0FE;\n",
              "      border: none;\n",
              "      border-radius: 50%;\n",
              "      cursor: pointer;\n",
              "      display: none;\n",
              "      fill: #1967D2;\n",
              "      height: 32px;\n",
              "      padding: 0 0 0 0;\n",
              "      width: 32px;\n",
              "    }\n",
              "\n",
              "    .colab-df-convert:hover {\n",
              "      background-color: #E2EBFA;\n",
              "      box-shadow: 0px 1px 2px rgba(60, 64, 67, 0.3), 0px 1px 3px 1px rgba(60, 64, 67, 0.15);\n",
              "      fill: #174EA6;\n",
              "    }\n",
              "\n",
              "    [theme=dark] .colab-df-convert {\n",
              "      background-color: #3B4455;\n",
              "      fill: #D2E3FC;\n",
              "    }\n",
              "\n",
              "    [theme=dark] .colab-df-convert:hover {\n",
              "      background-color: #434B5C;\n",
              "      box-shadow: 0px 1px 3px 1px rgba(0, 0, 0, 0.15);\n",
              "      filter: drop-shadow(0px 1px 2px rgba(0, 0, 0, 0.3));\n",
              "      fill: #FFFFFF;\n",
              "    }\n",
              "  </style>\n",
              "\n",
              "      <script>\n",
              "        const buttonEl =\n",
              "          document.querySelector('#df-b0b5dfbe-1e35-4886-be53-26659e3a9f10 button.colab-df-convert');\n",
              "        buttonEl.style.display =\n",
              "          google.colab.kernel.accessAllowed ? 'block' : 'none';\n",
              "\n",
              "        async function convertToInteractive(key) {\n",
              "          const element = document.querySelector('#df-b0b5dfbe-1e35-4886-be53-26659e3a9f10');\n",
              "          const dataTable =\n",
              "            await google.colab.kernel.invokeFunction('convertToInteractive',\n",
              "                                                     [key], {});\n",
              "          if (!dataTable) return;\n",
              "\n",
              "          const docLinkHtml = 'Like what you see? Visit the ' +\n",
              "            '<a target=\"_blank\" href=https://colab.research.google.com/notebooks/data_table.ipynb>data table notebook</a>'\n",
              "            + ' to learn more about interactive tables.';\n",
              "          element.innerHTML = '';\n",
              "          dataTable['output_type'] = 'display_data';\n",
              "          await google.colab.output.renderOutput(dataTable, element);\n",
              "          const docLink = document.createElement('div');\n",
              "          docLink.innerHTML = docLinkHtml;\n",
              "          element.appendChild(docLink);\n",
              "        }\n",
              "      </script>\n",
              "    </div>\n",
              "  </div>\n",
              "  "
            ]
          },
          "metadata": {},
          "execution_count": 6
        }
      ]
    },
    {
      "cell_type": "markdown",
      "source": [
        "Creat a loop so that all rows data are fitted to in array as a same order"
      ],
      "metadata": {
        "id": "-FcOQMqsb1S1"
      }
    },
    {
      "cell_type": "code",
      "source": [],
      "metadata": {
        "id": "7qKgfFa1bw4o"
      },
      "execution_count": null,
      "outputs": []
    },
    {
      "cell_type": "markdown",
      "source": [],
      "metadata": {
        "id": "qnVjB2CEbv5M"
      }
    },
    {
      "cell_type": "markdown",
      "source": [
        "Find out the size of array and then matched with the desired model array"
      ],
      "metadata": {
        "id": "52HhQFhoT0Nl"
      }
    },
    {
      "cell_type": "code",
      "source": [
        "# see the error message to find the array of size\n",
        "# numpy.reshape(array, shape, order = 'C')\n",
        "# shape array with 4 rows and 2 columns\n",
        "\n",
        "# rds_phase1.to_numpy().reshape(2,2,2)"
      ],
      "metadata": {
        "id": "GA5hbpzXSoeZ"
      },
      "execution_count": null,
      "outputs": []
    },
    {
      "cell_type": "markdown",
      "source": [
        "From above,we know that the size of this array 62328\n",
        "and now we reshape it as a (2x2) 3D-matrix"
      ],
      "metadata": {
        "id": "l3Xb7be8Y-Z5"
      }
    },
    {
      "cell_type": "code",
      "source": [
        "# we have found array of size: 62328\n",
        "# now to convert dataframe to 3D\n",
        "# we have to divide 62328 in 3 parts such that multiplication of these 3 parts give us 42168\n",
        "# arr_phase1 = rds_phase1.to_numpy().reshape(15582, 2, 2)\n",
        "# arr_phase1"
      ],
      "metadata": {
        "id": "EfLSkJIqSrmk"
      },
      "execution_count": null,
      "outputs": []
    },
    {
      "cell_type": "code",
      "source": [
        "rds_phase1.to_numpy().reshape(2,2,2)"
      ],
      "metadata": {
        "colab": {
          "base_uri": "https://localhost:8080/",
          "height": 166
        },
        "id": "Wp5cUNDBY1dI",
        "outputId": "8b0b5ae0-8a5a-4d45-e215-a9a57492a630"
      },
      "execution_count": null,
      "outputs": [
        {
          "output_type": "error",
          "ename": "ValueError",
          "evalue": "ignored",
          "traceback": [
            "\u001b[0;31m---------------------------------------------------------------------------\u001b[0m",
            "\u001b[0;31mValueError\u001b[0m                                Traceback (most recent call last)",
            "\u001b[0;32m<ipython-input-9-e0d8db61f7e1>\u001b[0m in \u001b[0;36m<cell line: 1>\u001b[0;34m()\u001b[0m\n\u001b[0;32m----> 1\u001b[0;31m \u001b[0mrds_phase1\u001b[0m\u001b[0;34m.\u001b[0m\u001b[0mto_numpy\u001b[0m\u001b[0;34m(\u001b[0m\u001b[0;34m)\u001b[0m\u001b[0;34m.\u001b[0m\u001b[0mreshape\u001b[0m\u001b[0;34m(\u001b[0m\u001b[0;36m2\u001b[0m\u001b[0;34m,\u001b[0m\u001b[0;36m2\u001b[0m\u001b[0;34m,\u001b[0m\u001b[0;36m2\u001b[0m\u001b[0;34m)\u001b[0m\u001b[0;34m\u001b[0m\u001b[0;34m\u001b[0m\u001b[0m\n\u001b[0m",
            "\u001b[0;31mValueError\u001b[0m: cannot reshape array of size 4 into shape (2,2,2)"
          ]
        }
      ]
    },
    {
      "cell_type": "markdown",
      "source": [
        "From above,we know that the size of this array 4\n",
        "and now we reshape it as a (1x2x2) 3D-matrix"
      ],
      "metadata": {
        "id": "r2Vlxk3aUXHL"
      }
    },
    {
      "cell_type": "code",
      "source": [
        "arr_phase1 = rds_phase1.to_numpy().reshape(1, 2, 2)\n",
        "arr_phase1"
      ],
      "metadata": {
        "colab": {
          "base_uri": "https://localhost:8080/"
        },
        "id": "zC3farMLY8tO",
        "outputId": "50f3df1e-96a6-43ac-d89e-1d419fa4e63d"
      },
      "execution_count": null,
      "outputs": [
        {
          "output_type": "execute_result",
          "data": {
            "text/plain": [
              "array([[[-5.78114415e+00,  7.84952179e-01],\n",
              "        [ 2.64044620e+02,  1.32462085e+05]]])"
            ]
          },
          "metadata": {},
          "execution_count": 10
        }
      ]
    },
    {
      "cell_type": "markdown",
      "source": [
        ".ndim -> used to find out array dimension"
      ],
      "metadata": {
        "id": "d8nZ4ALmU3N3"
      }
    },
    {
      "cell_type": "code",
      "source": [
        "# display dimensions\n",
        "# 3 means the dataframe is 3D\n",
        "arr_phase1.ndim"
      ],
      "metadata": {
        "colab": {
          "base_uri": "https://localhost:8080/"
        },
        "id": "g19fnug9SuZi",
        "outputId": "7211ab2e-09a6-4692-9f42-da27acd5ac7b"
      },
      "execution_count": null,
      "outputs": [
        {
          "output_type": "execute_result",
          "data": {
            "text/plain": [
              "3"
            ]
          },
          "metadata": {},
          "execution_count": 11
        }
      ]
    },
    {
      "cell_type": "markdown",
      "source": [
        "Step:1 Select required columns for phase 2 and       //* follow same steps as previously done"
      ],
      "metadata": {
        "id": "P8ydKZzJSwvg"
      }
    },
    {
      "cell_type": "code",
      "source": [
        "# # required datasheet rds for phase_2 or Y-phase\n",
        "# rds_phase2 = datasheet.loc[:,['R1-PA2:VH','R1-PA5:IH','R1-PM5:I','R1-PM2:V']]\n",
        "# rds_phase2.head()"
      ],
      "metadata": {
        "id": "LxmydMi3S9Ju"
      },
      "execution_count": null,
      "outputs": []
    },
    {
      "cell_type": "code",
      "source": [
        "rds_phase2 = datasheet.loc[0:0,['R1-PA2:VH','R1-PM5:I','R1-PM2:V','R1-PA5:IH']]\n",
        "rds_phase2.head()"
      ],
      "metadata": {
        "colab": {
          "base_uri": "https://localhost:8080/",
          "height": 80
        },
        "id": "XI_9p-A_eDjR",
        "outputId": "666548d8-94c9-465e-cd30-5f08fa60ce02"
      },
      "execution_count": null,
      "outputs": [
        {
          "output_type": "execute_result",
          "data": {
            "text/plain": [
              "    R1-PA2:VH   R1-PM5:I     R1-PM2:V   R1-PA5:IH\n",
              "0 -125.752777  279.60897  132411.9389 -124.251627"
            ],
            "text/html": [
              "\n",
              "  <div id=\"df-27dbcfb7-37a8-41ef-94c8-765aa6d6aaa7\">\n",
              "    <div class=\"colab-df-container\">\n",
              "      <div>\n",
              "<style scoped>\n",
              "    .dataframe tbody tr th:only-of-type {\n",
              "        vertical-align: middle;\n",
              "    }\n",
              "\n",
              "    .dataframe tbody tr th {\n",
              "        vertical-align: top;\n",
              "    }\n",
              "\n",
              "    .dataframe thead th {\n",
              "        text-align: right;\n",
              "    }\n",
              "</style>\n",
              "<table border=\"1\" class=\"dataframe\">\n",
              "  <thead>\n",
              "    <tr style=\"text-align: right;\">\n",
              "      <th></th>\n",
              "      <th>R1-PA2:VH</th>\n",
              "      <th>R1-PM5:I</th>\n",
              "      <th>R1-PM2:V</th>\n",
              "      <th>R1-PA5:IH</th>\n",
              "    </tr>\n",
              "  </thead>\n",
              "  <tbody>\n",
              "    <tr>\n",
              "      <th>0</th>\n",
              "      <td>-125.752777</td>\n",
              "      <td>279.60897</td>\n",
              "      <td>132411.9389</td>\n",
              "      <td>-124.251627</td>\n",
              "    </tr>\n",
              "  </tbody>\n",
              "</table>\n",
              "</div>\n",
              "      <button class=\"colab-df-convert\" onclick=\"convertToInteractive('df-27dbcfb7-37a8-41ef-94c8-765aa6d6aaa7')\"\n",
              "              title=\"Convert this dataframe to an interactive table.\"\n",
              "              style=\"display:none;\">\n",
              "        \n",
              "  <svg xmlns=\"http://www.w3.org/2000/svg\" height=\"24px\"viewBox=\"0 0 24 24\"\n",
              "       width=\"24px\">\n",
              "    <path d=\"M0 0h24v24H0V0z\" fill=\"none\"/>\n",
              "    <path d=\"M18.56 5.44l.94 2.06.94-2.06 2.06-.94-2.06-.94-.94-2.06-.94 2.06-2.06.94zm-11 1L8.5 8.5l.94-2.06 2.06-.94-2.06-.94L8.5 2.5l-.94 2.06-2.06.94zm10 10l.94 2.06.94-2.06 2.06-.94-2.06-.94-.94-2.06-.94 2.06-2.06.94z\"/><path d=\"M17.41 7.96l-1.37-1.37c-.4-.4-.92-.59-1.43-.59-.52 0-1.04.2-1.43.59L10.3 9.45l-7.72 7.72c-.78.78-.78 2.05 0 2.83L4 21.41c.39.39.9.59 1.41.59.51 0 1.02-.2 1.41-.59l7.78-7.78 2.81-2.81c.8-.78.8-2.07 0-2.86zM5.41 20L4 18.59l7.72-7.72 1.47 1.35L5.41 20z\"/>\n",
              "  </svg>\n",
              "      </button>\n",
              "      \n",
              "  <style>\n",
              "    .colab-df-container {\n",
              "      display:flex;\n",
              "      flex-wrap:wrap;\n",
              "      gap: 12px;\n",
              "    }\n",
              "\n",
              "    .colab-df-convert {\n",
              "      background-color: #E8F0FE;\n",
              "      border: none;\n",
              "      border-radius: 50%;\n",
              "      cursor: pointer;\n",
              "      display: none;\n",
              "      fill: #1967D2;\n",
              "      height: 32px;\n",
              "      padding: 0 0 0 0;\n",
              "      width: 32px;\n",
              "    }\n",
              "\n",
              "    .colab-df-convert:hover {\n",
              "      background-color: #E2EBFA;\n",
              "      box-shadow: 0px 1px 2px rgba(60, 64, 67, 0.3), 0px 1px 3px 1px rgba(60, 64, 67, 0.15);\n",
              "      fill: #174EA6;\n",
              "    }\n",
              "\n",
              "    [theme=dark] .colab-df-convert {\n",
              "      background-color: #3B4455;\n",
              "      fill: #D2E3FC;\n",
              "    }\n",
              "\n",
              "    [theme=dark] .colab-df-convert:hover {\n",
              "      background-color: #434B5C;\n",
              "      box-shadow: 0px 1px 3px 1px rgba(0, 0, 0, 0.15);\n",
              "      filter: drop-shadow(0px 1px 2px rgba(0, 0, 0, 0.3));\n",
              "      fill: #FFFFFF;\n",
              "    }\n",
              "  </style>\n",
              "\n",
              "      <script>\n",
              "        const buttonEl =\n",
              "          document.querySelector('#df-27dbcfb7-37a8-41ef-94c8-765aa6d6aaa7 button.colab-df-convert');\n",
              "        buttonEl.style.display =\n",
              "          google.colab.kernel.accessAllowed ? 'block' : 'none';\n",
              "\n",
              "        async function convertToInteractive(key) {\n",
              "          const element = document.querySelector('#df-27dbcfb7-37a8-41ef-94c8-765aa6d6aaa7');\n",
              "          const dataTable =\n",
              "            await google.colab.kernel.invokeFunction('convertToInteractive',\n",
              "                                                     [key], {});\n",
              "          if (!dataTable) return;\n",
              "\n",
              "          const docLinkHtml = 'Like what you see? Visit the ' +\n",
              "            '<a target=\"_blank\" href=https://colab.research.google.com/notebooks/data_table.ipynb>data table notebook</a>'\n",
              "            + ' to learn more about interactive tables.';\n",
              "          element.innerHTML = '';\n",
              "          dataTable['output_type'] = 'display_data';\n",
              "          await google.colab.output.renderOutput(dataTable, element);\n",
              "          const docLink = document.createElement('div');\n",
              "          docLink.innerHTML = docLinkHtml;\n",
              "          element.appendChild(docLink);\n",
              "        }\n",
              "      </script>\n",
              "    </div>\n",
              "  </div>\n",
              "  "
            ]
          },
          "metadata": {},
          "execution_count": 13
        }
      ]
    },
    {
      "cell_type": "code",
      "source": [
        "# arr_phase2 = rds_phase2.to_numpy().reshape(15582, 2, 2)\n",
        "# arr_phase2"
      ],
      "metadata": {
        "id": "rR48D-qaTCjP"
      },
      "execution_count": null,
      "outputs": []
    },
    {
      "cell_type": "code",
      "source": [
        "arr_phase2 = rds_phase2.to_numpy().reshape(1, 2, 2)\n",
        "arr_phase2"
      ],
      "metadata": {
        "colab": {
          "base_uri": "https://localhost:8080/"
        },
        "id": "5ZMDi673eUxm",
        "outputId": "cb56191b-7f10-4497-bfa0-4fe7a03af886"
      },
      "execution_count": null,
      "outputs": [
        {
          "output_type": "execute_result",
          "data": {
            "text/plain": [
              "array([[[-1.25752777e+02,  2.79608970e+02],\n",
              "        [ 1.32411939e+05, -1.24251627e+02]]])"
            ]
          },
          "metadata": {},
          "execution_count": 15
        }
      ]
    },
    {
      "cell_type": "code",
      "source": [
        "arr_phase2.ndim"
      ],
      "metadata": {
        "colab": {
          "base_uri": "https://localhost:8080/"
        },
        "id": "vW6qmvZuTEeY",
        "outputId": "1711da57-4691-495c-ce94-53a3c8dc96f2"
      },
      "execution_count": null,
      "outputs": [
        {
          "output_type": "execute_result",
          "data": {
            "text/plain": [
              "3"
            ]
          },
          "metadata": {},
          "execution_count": 16
        }
      ]
    },
    {
      "cell_type": "markdown",
      "source": [
        "Step:1 Select required columns for phase 3 and       //* follow same steps as previously done"
      ],
      "metadata": {
        "id": "NG-wNqg9THCL"
      }
    },
    {
      "cell_type": "code",
      "source": [
        "# required datasheet rds for phase_3 or B-phase\n",
        "# rds_phase3 = datasheet.loc[:,['R1-PA3:VH','R1-PA6:IH','R1-PM6:I','R1-PM3:V']]\n",
        "# rds_phase3"
      ],
      "metadata": {
        "id": "CSesV0XiTMlm"
      },
      "execution_count": null,
      "outputs": []
    },
    {
      "cell_type": "code",
      "source": [
        "rds_phase3 = datasheet.loc[0:0,['R1-PA3:VH','R1-PM6:I','R1-PM3:V','R1-PA6:IH']]\n",
        "rds_phase3"
      ],
      "metadata": {
        "colab": {
          "base_uri": "https://localhost:8080/",
          "height": 80
        },
        "id": "ahelPSHTe1w1",
        "outputId": "ba8d756d-d06a-4a2c-f8d7-2f902c999da0"
      },
      "execution_count": null,
      "outputs": [
        {
          "output_type": "execute_result",
          "data": {
            "text/plain": [
              "    R1-PA3:VH   R1-PM6:I     R1-PM3:V  R1-PA6:IH\n",
              "0  114.236325  260.56553  132537.3052   121.0889"
            ],
            "text/html": [
              "\n",
              "  <div id=\"df-37099e1e-8c09-4a63-a190-1041bdac0078\">\n",
              "    <div class=\"colab-df-container\">\n",
              "      <div>\n",
              "<style scoped>\n",
              "    .dataframe tbody tr th:only-of-type {\n",
              "        vertical-align: middle;\n",
              "    }\n",
              "\n",
              "    .dataframe tbody tr th {\n",
              "        vertical-align: top;\n",
              "    }\n",
              "\n",
              "    .dataframe thead th {\n",
              "        text-align: right;\n",
              "    }\n",
              "</style>\n",
              "<table border=\"1\" class=\"dataframe\">\n",
              "  <thead>\n",
              "    <tr style=\"text-align: right;\">\n",
              "      <th></th>\n",
              "      <th>R1-PA3:VH</th>\n",
              "      <th>R1-PM6:I</th>\n",
              "      <th>R1-PM3:V</th>\n",
              "      <th>R1-PA6:IH</th>\n",
              "    </tr>\n",
              "  </thead>\n",
              "  <tbody>\n",
              "    <tr>\n",
              "      <th>0</th>\n",
              "      <td>114.236325</td>\n",
              "      <td>260.56553</td>\n",
              "      <td>132537.3052</td>\n",
              "      <td>121.0889</td>\n",
              "    </tr>\n",
              "  </tbody>\n",
              "</table>\n",
              "</div>\n",
              "      <button class=\"colab-df-convert\" onclick=\"convertToInteractive('df-37099e1e-8c09-4a63-a190-1041bdac0078')\"\n",
              "              title=\"Convert this dataframe to an interactive table.\"\n",
              "              style=\"display:none;\">\n",
              "        \n",
              "  <svg xmlns=\"http://www.w3.org/2000/svg\" height=\"24px\"viewBox=\"0 0 24 24\"\n",
              "       width=\"24px\">\n",
              "    <path d=\"M0 0h24v24H0V0z\" fill=\"none\"/>\n",
              "    <path d=\"M18.56 5.44l.94 2.06.94-2.06 2.06-.94-2.06-.94-.94-2.06-.94 2.06-2.06.94zm-11 1L8.5 8.5l.94-2.06 2.06-.94-2.06-.94L8.5 2.5l-.94 2.06-2.06.94zm10 10l.94 2.06.94-2.06 2.06-.94-2.06-.94-.94-2.06-.94 2.06-2.06.94z\"/><path d=\"M17.41 7.96l-1.37-1.37c-.4-.4-.92-.59-1.43-.59-.52 0-1.04.2-1.43.59L10.3 9.45l-7.72 7.72c-.78.78-.78 2.05 0 2.83L4 21.41c.39.39.9.59 1.41.59.51 0 1.02-.2 1.41-.59l7.78-7.78 2.81-2.81c.8-.78.8-2.07 0-2.86zM5.41 20L4 18.59l7.72-7.72 1.47 1.35L5.41 20z\"/>\n",
              "  </svg>\n",
              "      </button>\n",
              "      \n",
              "  <style>\n",
              "    .colab-df-container {\n",
              "      display:flex;\n",
              "      flex-wrap:wrap;\n",
              "      gap: 12px;\n",
              "    }\n",
              "\n",
              "    .colab-df-convert {\n",
              "      background-color: #E8F0FE;\n",
              "      border: none;\n",
              "      border-radius: 50%;\n",
              "      cursor: pointer;\n",
              "      display: none;\n",
              "      fill: #1967D2;\n",
              "      height: 32px;\n",
              "      padding: 0 0 0 0;\n",
              "      width: 32px;\n",
              "    }\n",
              "\n",
              "    .colab-df-convert:hover {\n",
              "      background-color: #E2EBFA;\n",
              "      box-shadow: 0px 1px 2px rgba(60, 64, 67, 0.3), 0px 1px 3px 1px rgba(60, 64, 67, 0.15);\n",
              "      fill: #174EA6;\n",
              "    }\n",
              "\n",
              "    [theme=dark] .colab-df-convert {\n",
              "      background-color: #3B4455;\n",
              "      fill: #D2E3FC;\n",
              "    }\n",
              "\n",
              "    [theme=dark] .colab-df-convert:hover {\n",
              "      background-color: #434B5C;\n",
              "      box-shadow: 0px 1px 3px 1px rgba(0, 0, 0, 0.15);\n",
              "      filter: drop-shadow(0px 1px 2px rgba(0, 0, 0, 0.3));\n",
              "      fill: #FFFFFF;\n",
              "    }\n",
              "  </style>\n",
              "\n",
              "      <script>\n",
              "        const buttonEl =\n",
              "          document.querySelector('#df-37099e1e-8c09-4a63-a190-1041bdac0078 button.colab-df-convert');\n",
              "        buttonEl.style.display =\n",
              "          google.colab.kernel.accessAllowed ? 'block' : 'none';\n",
              "\n",
              "        async function convertToInteractive(key) {\n",
              "          const element = document.querySelector('#df-37099e1e-8c09-4a63-a190-1041bdac0078');\n",
              "          const dataTable =\n",
              "            await google.colab.kernel.invokeFunction('convertToInteractive',\n",
              "                                                     [key], {});\n",
              "          if (!dataTable) return;\n",
              "\n",
              "          const docLinkHtml = 'Like what you see? Visit the ' +\n",
              "            '<a target=\"_blank\" href=https://colab.research.google.com/notebooks/data_table.ipynb>data table notebook</a>'\n",
              "            + ' to learn more about interactive tables.';\n",
              "          element.innerHTML = '';\n",
              "          dataTable['output_type'] = 'display_data';\n",
              "          await google.colab.output.renderOutput(dataTable, element);\n",
              "          const docLink = document.createElement('div');\n",
              "          docLink.innerHTML = docLinkHtml;\n",
              "          element.appendChild(docLink);\n",
              "        }\n",
              "      </script>\n",
              "    </div>\n",
              "  </div>\n",
              "  "
            ]
          },
          "metadata": {},
          "execution_count": 18
        }
      ]
    },
    {
      "cell_type": "code",
      "source": [
        "# arr_phase3 = rds_phase3.to_numpy().reshape(15582, 2, 2)\n",
        "# arr_phase3"
      ],
      "metadata": {
        "id": "JAMIip7qTPEk"
      },
      "execution_count": null,
      "outputs": []
    },
    {
      "cell_type": "code",
      "source": [
        "arr_phase3 = rds_phase3.to_numpy().reshape(1, 2, 2)\n",
        "arr_phase3"
      ],
      "metadata": {
        "colab": {
          "base_uri": "https://localhost:8080/"
        },
        "id": "sLA6KQpGfMHn",
        "outputId": "a4d1b73d-4102-4607-8f42-926bc4f7b675"
      },
      "execution_count": null,
      "outputs": [
        {
          "output_type": "execute_result",
          "data": {
            "text/plain": [
              "array([[[1.14236325e+02, 2.60565530e+02],\n",
              "        [1.32537305e+05, 1.21088900e+02]]])"
            ]
          },
          "metadata": {},
          "execution_count": 20
        }
      ]
    },
    {
      "cell_type": "code",
      "source": [
        "arr_phase3.ndim"
      ],
      "metadata": {
        "colab": {
          "base_uri": "https://localhost:8080/"
        },
        "id": "9CBJ11C7TR0-",
        "outputId": "2d31922f-0a0b-4cd7-ef6a-db545789beb7"
      },
      "execution_count": null,
      "outputs": [
        {
          "output_type": "execute_result",
          "data": {
            "text/plain": [
              "3"
            ]
          },
          "metadata": {},
          "execution_count": 21
        }
      ]
    },
    {
      "cell_type": "markdown",
      "source": [
        "Concatenation of array"
      ],
      "metadata": {
        "id": "-ZHrltC8ldo-"
      }
    },
    {
      "cell_type": "code",
      "source": [
        "arr_phase1"
      ],
      "metadata": {
        "colab": {
          "base_uri": "https://localhost:8080/"
        },
        "id": "1sdiCKOck2Tj",
        "outputId": "29a28848-e148-426d-909c-355ee1b42f79"
      },
      "execution_count": null,
      "outputs": [
        {
          "output_type": "execute_result",
          "data": {
            "text/plain": [
              "array([[[-5.78114415e+00,  7.84952179e-01],\n",
              "        [ 2.64044620e+02,  1.32462085e+05]]])"
            ]
          },
          "metadata": {},
          "execution_count": 22
        }
      ]
    },
    {
      "cell_type": "code",
      "source": [
        "arr_phase2"
      ],
      "metadata": {
        "colab": {
          "base_uri": "https://localhost:8080/"
        },
        "id": "ClQMECrKlBKn",
        "outputId": "b73bdb4b-2918-4eb5-fe31-1f6b09a7e836"
      },
      "execution_count": null,
      "outputs": [
        {
          "output_type": "execute_result",
          "data": {
            "text/plain": [
              "array([[[-1.25752777e+02,  2.79608970e+02],\n",
              "        [ 1.32411939e+05, -1.24251627e+02]]])"
            ]
          },
          "metadata": {},
          "execution_count": 23
        }
      ]
    },
    {
      "cell_type": "code",
      "source": [
        "arr_phase3"
      ],
      "metadata": {
        "colab": {
          "base_uri": "https://localhost:8080/"
        },
        "id": "mIMeLiQvlXnW",
        "outputId": "ac7ed283-8065-4e00-fe48-cb4f08190d3e"
      },
      "execution_count": null,
      "outputs": [
        {
          "output_type": "execute_result",
          "data": {
            "text/plain": [
              "array([[[1.14236325e+02, 2.60565530e+02],\n",
              "        [1.32537305e+05, 1.21088900e+02]]])"
            ]
          },
          "metadata": {},
          "execution_count": 24
        }
      ]
    },
    {
      "cell_type": "code",
      "source": [
        "# Concatenation method (axis= 1 for same column) and (axis= -1 for same row)\n",
        "print(np.concatenate((arr_phase1, arr_phase2, arr_phase3), axis = 1))"
      ],
      "metadata": {
        "colab": {
          "base_uri": "https://localhost:8080/"
        },
        "id": "vVp8TbT2TUVc",
        "outputId": "9b04c27b-fc1b-4df8-c410-425e05ad9544"
      },
      "execution_count": null,
      "outputs": [
        {
          "output_type": "stream",
          "name": "stdout",
          "text": [
            "[[[-5.78114415e+00  7.84952179e-01]\n",
            "  [ 2.64044620e+02  1.32462085e+05]\n",
            "  [-1.25752777e+02  2.79608970e+02]\n",
            "  [ 1.32411939e+05 -1.24251627e+02]\n",
            "  [ 1.14236325e+02  2.60565530e+02]\n",
            "  [ 1.32537305e+05  1.21088900e+02]]]\n"
          ]
        }
      ]
    },
    {
      "cell_type": "markdown",
      "source": [
        "Create a file _Demo Purpose"
      ],
      "metadata": {
        "id": "2-o4HL7XacAH"
      }
    },
    {
      "cell_type": "code",
      "source": [
        "import numpy as np\n",
        "import pandas as pd\n",
        "import matplotlib.pyplot as plt\n",
        "import seaborn as sns\n",
        "import plotly.express as px\n",
        "\n",
        "import warnings\n",
        "\n",
        "import tensorflow as tf\n",
        "from tensorflow import keras\n",
        "from sklearn.model_selection import train_test_split\n",
        "from sklearn.preprocessing import LabelEncoder\n",
        "from sklearn.metrics import accuracy_score, precision_score, recall_score, f1_score, confusion_matrix, classification_report\n",
        "import sklearn.metrics as metrics"
      ],
      "metadata": {
        "id": "NWMmBrRsxMom"
      },
      "execution_count": null,
      "outputs": []
    },
    {
      "cell_type": "code",
      "source": [
        "from sklearn.neighbors import KNeighborsClassifier as KNN\n",
        "import numpy as np\n",
        "\n",
        "# Load dataset\n",
        "from sklearn.datasets import load_iris\n",
        "iris = load_iris()\n",
        "\n",
        "X = iris.data\n",
        "y = iris.target\n",
        "\n",
        "# Split dataset into train and test\n",
        "X_train, X_test, y_train, y_test = train_test_split(X, y, test_size=0.3,random_state=2018)\n",
        "\n",
        "# import KNeighborsClassifier model\n",
        "knn = KNN(n_neighbors=3)\n",
        "\n",
        "# train model\n",
        "knn.fit(X_train, y_train)\n"
      ],
      "metadata": {
        "colab": {
          "base_uri": "https://localhost:8080/",
          "height": 74
        },
        "id": "mHmfp7OEkxVf",
        "outputId": "7c9eee9c-532f-4387-9396-856284453a37"
      },
      "execution_count": null,
      "outputs": [
        {
          "output_type": "execute_result",
          "data": {
            "text/plain": [
              "KNeighborsClassifier(n_neighbors=3)"
            ],
            "text/html": [
              "<style>#sk-container-id-1 {color: black;background-color: white;}#sk-container-id-1 pre{padding: 0;}#sk-container-id-1 div.sk-toggleable {background-color: white;}#sk-container-id-1 label.sk-toggleable__label {cursor: pointer;display: block;width: 100%;margin-bottom: 0;padding: 0.3em;box-sizing: border-box;text-align: center;}#sk-container-id-1 label.sk-toggleable__label-arrow:before {content: \"▸\";float: left;margin-right: 0.25em;color: #696969;}#sk-container-id-1 label.sk-toggleable__label-arrow:hover:before {color: black;}#sk-container-id-1 div.sk-estimator:hover label.sk-toggleable__label-arrow:before {color: black;}#sk-container-id-1 div.sk-toggleable__content {max-height: 0;max-width: 0;overflow: hidden;text-align: left;background-color: #f0f8ff;}#sk-container-id-1 div.sk-toggleable__content pre {margin: 0.2em;color: black;border-radius: 0.25em;background-color: #f0f8ff;}#sk-container-id-1 input.sk-toggleable__control:checked~div.sk-toggleable__content {max-height: 200px;max-width: 100%;overflow: auto;}#sk-container-id-1 input.sk-toggleable__control:checked~label.sk-toggleable__label-arrow:before {content: \"▾\";}#sk-container-id-1 div.sk-estimator input.sk-toggleable__control:checked~label.sk-toggleable__label {background-color: #d4ebff;}#sk-container-id-1 div.sk-label input.sk-toggleable__control:checked~label.sk-toggleable__label {background-color: #d4ebff;}#sk-container-id-1 input.sk-hidden--visually {border: 0;clip: rect(1px 1px 1px 1px);clip: rect(1px, 1px, 1px, 1px);height: 1px;margin: -1px;overflow: hidden;padding: 0;position: absolute;width: 1px;}#sk-container-id-1 div.sk-estimator {font-family: monospace;background-color: #f0f8ff;border: 1px dotted black;border-radius: 0.25em;box-sizing: border-box;margin-bottom: 0.5em;}#sk-container-id-1 div.sk-estimator:hover {background-color: #d4ebff;}#sk-container-id-1 div.sk-parallel-item::after {content: \"\";width: 100%;border-bottom: 1px solid gray;flex-grow: 1;}#sk-container-id-1 div.sk-label:hover label.sk-toggleable__label {background-color: #d4ebff;}#sk-container-id-1 div.sk-serial::before {content: \"\";position: absolute;border-left: 1px solid gray;box-sizing: border-box;top: 0;bottom: 0;left: 50%;z-index: 0;}#sk-container-id-1 div.sk-serial {display: flex;flex-direction: column;align-items: center;background-color: white;padding-right: 0.2em;padding-left: 0.2em;position: relative;}#sk-container-id-1 div.sk-item {position: relative;z-index: 1;}#sk-container-id-1 div.sk-parallel {display: flex;align-items: stretch;justify-content: center;background-color: white;position: relative;}#sk-container-id-1 div.sk-item::before, #sk-container-id-1 div.sk-parallel-item::before {content: \"\";position: absolute;border-left: 1px solid gray;box-sizing: border-box;top: 0;bottom: 0;left: 50%;z-index: -1;}#sk-container-id-1 div.sk-parallel-item {display: flex;flex-direction: column;z-index: 1;position: relative;background-color: white;}#sk-container-id-1 div.sk-parallel-item:first-child::after {align-self: flex-end;width: 50%;}#sk-container-id-1 div.sk-parallel-item:last-child::after {align-self: flex-start;width: 50%;}#sk-container-id-1 div.sk-parallel-item:only-child::after {width: 0;}#sk-container-id-1 div.sk-dashed-wrapped {border: 1px dashed gray;margin: 0 0.4em 0.5em 0.4em;box-sizing: border-box;padding-bottom: 0.4em;background-color: white;}#sk-container-id-1 div.sk-label label {font-family: monospace;font-weight: bold;display: inline-block;line-height: 1.2em;}#sk-container-id-1 div.sk-label-container {text-align: center;}#sk-container-id-1 div.sk-container {/* jupyter's `normalize.less` sets `[hidden] { display: none; }` but bootstrap.min.css set `[hidden] { display: none !important; }` so we also need the `!important` here to be able to override the default hidden behavior on the sphinx rendered scikit-learn.org. See: https://github.com/scikit-learn/scikit-learn/issues/21755 */display: inline-block !important;position: relative;}#sk-container-id-1 div.sk-text-repr-fallback {display: none;}</style><div id=\"sk-container-id-1\" class=\"sk-top-container\"><div class=\"sk-text-repr-fallback\"><pre>KNeighborsClassifier(n_neighbors=3)</pre><b>In a Jupyter environment, please rerun this cell to show the HTML representation or trust the notebook. <br />On GitHub, the HTML representation is unable to render, please try loading this page with nbviewer.org.</b></div><div class=\"sk-container\" hidden><div class=\"sk-item\"><div class=\"sk-estimator sk-toggleable\"><input class=\"sk-toggleable__control sk-hidden--visually\" id=\"sk-estimator-id-1\" type=\"checkbox\" checked><label for=\"sk-estimator-id-1\" class=\"sk-toggleable__label sk-toggleable__label-arrow\">KNeighborsClassifier</label><div class=\"sk-toggleable__content\"><pre>KNeighborsClassifier(n_neighbors=3)</pre></div></div></div></div></div>"
            ]
          },
          "metadata": {},
          "execution_count": 27
        }
      ]
    },
    {
      "cell_type": "code",
      "source": [
        "from joblib import Parallel, delayed\n",
        "import joblib\n",
        "\n",
        "\n",
        "# Save the model as a pickle in a file\n",
        "joblib.dump(knn, 'filename.pkl')\n",
        "\n",
        "# Load the model from the file\n",
        "knn_from_joblib = joblib.load('filename.pkl')\n",
        "\n",
        "# Use the loaded model to make predictions\n",
        "knn_from_joblib.predict(X_test)\n"
      ],
      "metadata": {
        "colab": {
          "base_uri": "https://localhost:8080/"
        },
        "id": "g0SKtjPEwQPk",
        "outputId": "d8ca1e0d-f9eb-45e3-a3e1-e6d756a65d03"
      },
      "execution_count": null,
      "outputs": [
        {
          "output_type": "execute_result",
          "data": {
            "text/plain": [
              "array([0, 1, 1, 1, 0, 1, 2, 1, 2, 0, 0, 2, 2, 2, 0, 2, 2, 0, 1, 1, 1, 0,\n",
              "       2, 0, 0, 2, 0, 0, 2, 1, 0, 2, 0, 1, 2, 0, 0, 0, 0, 1, 0, 2, 2, 2,\n",
              "       1])"
            ]
          },
          "metadata": {},
          "execution_count": 28
        }
      ]
    },
    {
      "cell_type": "code",
      "source": [],
      "metadata": {
        "id": "3Vmg6wLNxiTG"
      },
      "execution_count": null,
      "outputs": []
    }
  ]
}